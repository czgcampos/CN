{
 "cells": [
  {
   "cell_type": "code",
   "execution_count": 1,
   "metadata": {},
   "outputs": [],
   "source": [
    "import numpy\n",
    "import GA"
   ]
  },
  {
   "cell_type": "markdown",
   "metadata": {},
   "source": [
    "\"\"\"\n",
    "The y=target is to maximize this equation ASAP:\n",
    "    y = w1x1+w2x2+w3x3+w4x4+w5x5+6wx6\n",
    "    where (x1,x2,x3,x4,x5,x6)=(4,-2,3.5,5,-11,-4.7)\n",
    "    What are the best values for the 6 weights w1 to w6?\n",
    "    We are going to use the genetic algorithm for the best possible values after a number of generations.\n",
    "\"\"\""
   ]
  },
  {
   "cell_type": "code",
   "execution_count": 2,
   "metadata": {},
   "outputs": [],
   "source": [
    "# Inputs of the equation.\n",
    "equation_inputs = [4,-2,3.5,5,-11,-4.7]"
   ]
  },
  {
   "cell_type": "code",
   "execution_count": 3,
   "metadata": {},
   "outputs": [],
   "source": [
    "# Number of the weights we are looking to optimize.\n",
    "num_weights = 6"
   ]
  },
  {
   "cell_type": "markdown",
   "metadata": {},
   "source": [
    "\"\"\"\n",
    "Genetic algorithm parameters:\n",
    "    Mating pool size\n",
    "    Population size\n",
    "\"\"\""
   ]
  },
  {
   "cell_type": "code",
   "execution_count": 4,
   "metadata": {},
   "outputs": [],
   "source": [
    "sol_per_pop = 8\n",
    "num_parents_mating = 4"
   ]
  },
  {
   "cell_type": "code",
   "execution_count": 5,
   "metadata": {},
   "outputs": [
    {
     "name": "stdout",
     "output_type": "stream",
     "text": [
      "[[ 1.56965789  0.05449561  3.22718161 -3.64534612 -2.34536144 -3.36789116]\n",
      " [-1.83577982  2.12814005  2.75083177 -1.51657411 -2.59134154  1.90388737]\n",
      " [-1.79518539 -2.81503227  0.66444233 -0.64367908  0.13425973 -2.88549517]\n",
      " [-2.98629058 -1.65507554 -1.43031525  0.8576379  -2.03896136 -1.8140187 ]\n",
      " [ 1.27255473 -3.773186   -2.08550092  2.06815411 -2.9577864   1.0775743 ]\n",
      " [-1.69362148 -3.07304757  1.34935338  3.18925913  2.31857127 -0.66065156]\n",
      " [ 1.82852907  0.12179852 -3.46903006 -1.90969304  0.58027005  0.81690661]\n",
      " [ 2.33634191  2.17031977  0.30826292 -1.79860783  3.16039024 -2.50132298]]\n"
     ]
    }
   ],
   "source": [
    "# Defining the population size.\n",
    "pop_size = (sol_per_pop,num_weights) # The population will have sol_per_pop chromosome where each chromosome has num_weights genes.\n",
    "#Creating the initial population.\n",
    "new_population = numpy.random.uniform(low=-4.0, high=4.0, size=pop_size)\n",
    "print(new_population)"
   ]
  },
  {
   "cell_type": "code",
   "execution_count": 6,
   "metadata": {},
   "outputs": [
    {
     "name": "stdout",
     "output_type": "stream",
     "text": [
      "Generation :  0\n",
      "Best result :  45.44780071569829\n",
      "Generation :  1\n",
      "Best result :  63.559769502871454\n",
      "Generation :  2\n",
      "Best result :  65.5930071896051\n",
      "Generation :  3\n",
      "Best result :  73.38651833984375\n",
      "Generation :  4\n",
      "Best result :  73.38651833984375\n"
     ]
    }
   ],
   "source": [
    "num_generations = 5\n",
    "for generation in range(num_generations):\n",
    "    print(\"Generation : \", generation)\n",
    "    # Measing the fitness of each chromosome in the population.\n",
    "    fitness = GA.cal_pop_fitness(equation_inputs, new_population)\n",
    "\n",
    "    # Selecting the best parents in the population for mating.\n",
    "    parents = GA.select_mating_pool(new_population, fitness, \n",
    "                                      num_parents_mating)\n",
    "\n",
    "    # Generating next generation using crossover.\n",
    "    offspring_crossover = GA.crossover(parents,\n",
    "                                       offspring_size=(pop_size[0]-parents.shape[0], num_weights))\n",
    "\n",
    "    # Adding some variations to the offsrping using mutation.\n",
    "    offspring_mutation = GA.mutation(offspring_crossover)\n",
    "\n",
    "    # Creating the new population based on the parents and offspring.\n",
    "    new_population[0:parents.shape[0], :] = parents\n",
    "    new_population[parents.shape[0]:, :] = offspring_mutation\n",
    "\n",
    "    # The best result in the current iteration.\n",
    "    print(\"Best result : \", numpy.max(numpy.sum(new_population*equation_inputs, axis=1)))"
   ]
  },
  {
   "cell_type": "code",
   "execution_count": 7,
   "metadata": {},
   "outputs": [],
   "source": [
    "# Getting the best solution after iterating finishing all generations.\n",
    "#At first, the fitness is calculated for each solution in the final generation.\n",
    "fitness = GA.cal_pop_fitness(equation_inputs, new_population)\n",
    "# Then return the index of that solution corresponding to the best fitness.\n",
    "best_match_idx = numpy.where(fitness == numpy.max(fitness))"
   ]
  },
  {
   "cell_type": "code",
   "execution_count": 8,
   "metadata": {},
   "outputs": [
    {
     "name": "stdout",
     "output_type": "stream",
     "text": [
      "Best solution :  [[[ 1.56965789  0.05449561  3.22718161  2.06815411 -4.60414282\n",
      "    1.0775743 ]]]\n",
      "Best solution fitness :  [73.38651834]\n"
     ]
    }
   ],
   "source": [
    "print(\"Best solution : \", new_population[best_match_idx, :])\n",
    "print(\"Best solution fitness : \", fitness[best_match_idx])"
   ]
  }
 ],
 "metadata": {
  "kernelspec": {
   "display_name": "Python 3",
   "language": "python",
   "name": "python3"
  },
  "language_info": {
   "codemirror_mode": {
    "name": "ipython",
    "version": 3
   },
   "file_extension": ".py",
   "mimetype": "text/x-python",
   "name": "python",
   "nbconvert_exporter": "python",
   "pygments_lexer": "ipython3",
   "version": "3.6.8"
  }
 },
 "nbformat": 4,
 "nbformat_minor": 2
}
