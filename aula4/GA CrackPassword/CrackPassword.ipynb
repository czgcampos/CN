{
 "cells": [
  {
   "cell_type": "code",
   "execution_count": 1,
   "metadata": {},
   "outputs": [],
   "source": [
    "import random\n",
    "import datetime"
   ]
  },
  {
   "cell_type": "code",
   "execution_count": 2,
   "metadata": {},
   "outputs": [],
   "source": [
    "def get_fitness(guess):\n",
    "    return sum(1 for expected, actual in zip(target, guess)\n",
    "               if expected == actual)"
   ]
  },
  {
   "cell_type": "code",
   "execution_count": 3,
   "metadata": {},
   "outputs": [],
   "source": [
    "def display(guess):\n",
    "    timeDiff = datetime.datetime.now() - startTime\n",
    "    fitness = get_fitness(guess)\n",
    "    print(\"{0}\\t{1}\\t{2}\".format(guess, fitness, str(timeDiff)))"
   ]
  },
  {
   "cell_type": "code",
   "execution_count": 4,
   "metadata": {},
   "outputs": [],
   "source": [
    "def generate_parent(length):\n",
    "    genes = []\n",
    "    while len(genes) < length:\n",
    "        sampleSize = min(length - len(genes), len(geneSet))\n",
    "        genes.extend(random.sample(geneSet, sampleSize))\n",
    "    return ''.join(genes)"
   ]
  },
  {
   "cell_type": "code",
   "execution_count": 5,
   "metadata": {},
   "outputs": [],
   "source": [
    "def mutate(parent):\n",
    "    index = random.randrange(0, len(parent))\n",
    "    childGenes = list(parent)\n",
    "    newGene, alternate = random.sample(geneSet, 2)\n",
    "    childGenes[index] = alternate \\\n",
    "        if newGene == childGenes[index] \\\n",
    "        else newGene\n",
    "    return ''.join(childGenes)"
   ]
  },
  {
   "cell_type": "code",
   "execution_count": 6,
   "metadata": {},
   "outputs": [
    {
     "name": "stdout",
     "output_type": "stream",
     "text": [
      "suOkoBnztVbJeFmjRfcW\t0\t0:00:00.003156\n",
      "suOkwBnztVbJeFmjRfcW\t1\t0:00:00.005166\n",
      "suOswBnztVbJeFmjRfcW\t2\t0:00:00.016733\n",
      "suOswBnztVbJenmjRfcW\t3\t0:00:00.030367\n",
      "suOswBnztVbJenmjRfca\t4\t0:00:00.032553\n",
      "suOswBrztVbJenmjRfca\t5\t0:00:00.035091\n",
      "PuOswBrztVbJenmjRfca\t6\t0:00:00.035823\n",
      "PuOswBrztVbJenmjRica\t7\t0:00:00.043211\n",
      "PuOswBrztVbJenmjRida\t8\t0:00:00.044659\n",
      "PuOswBrztebJenmjRida\t9\t0:00:00.048410\n",
      "PuOswBrzDebJenmjRida\t10\t0:00:00.049367\n",
      "PuOswBrzDesJenmjRida\t11\t0:00:00.051671\n",
      "PuOswBrzDesJonmjRida\t12\t0:00:00.053983\n",
      "PuOswBrzDesJonhjRida\t13\t0:00:00.058344\n",
      "PuOswBrzDesJonheRida\t14\t0:00:00.062930\n",
      "PuOsworzDesJonheRida\t15\t0:00:00.072356\n",
      "PuOswordDesJonheRida\t16\t0:00:00.074485\n",
      "PuOswordDesJonhecida\t17\t0:00:00.089667\n",
      "PuOswordDesconhecida\t18\t0:00:00.110773\n",
      "PaOswordDesconhecida\t19\t0:00:00.152348\n",
      "PasswordDesconhecida\t20\t0:00:00.178898\n"
     ]
    }
   ],
   "source": [
    "random.seed()\n",
    "geneSet = \" abcdefghijklmnopqrstuvwxyzABCDEFGHIJKLMNOPQRSTUVWXYZ!.\"\n",
    "target = \"PasswordDesconhecida\"\n",
    "startTime = datetime.datetime.now()\n",
    "bestParent = generate_parent(len(target))\n",
    "bestFitness = get_fitness(bestParent)\n",
    "display(bestParent)\n",
    "while True:\n",
    "    child = mutate(bestParent)\n",
    "    childFitness = get_fitness(child)\n",
    "\n",
    "    if bestFitness >= childFitness:\n",
    "        continue\n",
    "    display(child)\n",
    "    if childFitness >= len(bestParent):\n",
    "        break\n",
    "    bestFitness = childFitness\n",
    "    bestParent = child"
   ]
  }
 ],
 "metadata": {
  "kernelspec": {
   "display_name": "Python 3",
   "language": "python",
   "name": "python3"
  },
  "language_info": {
   "codemirror_mode": {
    "name": "ipython",
    "version": 3
   },
   "file_extension": ".py",
   "mimetype": "text/x-python",
   "name": "python",
   "nbconvert_exporter": "python",
   "pygments_lexer": "ipython3",
   "version": "3.6.8"
  }
 },
 "nbformat": 4,
 "nbformat_minor": 2
}
